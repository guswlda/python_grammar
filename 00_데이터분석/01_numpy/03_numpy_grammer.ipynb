{
 "cells": [
  {
   "cell_type": "markdown",
   "metadata": {},
   "source": [
    "# Numpy\n",
    "1. Numpy 설치\n",
    "  Numpy는 pip를 통해 쉽게 설치가 가능하다. <br>\n",
    "  $ pip install numpy"
   ]
  },
  {
   "cell_type": "code",
   "execution_count": 42,
   "metadata": {},
   "outputs": [],
   "source": [
    "# !pip install numpy\n",
    "\n",
    "import numpy as np"
   ]
  },
  {
   "cell_type": "markdown",
   "metadata": {},
   "source": [
    "# Numpy 배열 생성\n",
    "numpy에서 가장 중요한 객체는 ndarray로 다차원 배열을 생성하고 관리할 수 있다."
   ]
  },
  {
   "cell_type": "markdown",
   "metadata": {},
   "source": [
    "1. list를 배열로 변환"
   ]
  },
  {
   "cell_type": "code",
   "execution_count": 43,
   "metadata": {},
   "outputs": [
    {
     "name": "stdout",
     "output_type": "stream",
     "text": [
      "[1, 2, 3, 4, 5]\n"
     ]
    },
    {
     "data": {
      "text/plain": [
       "list"
      ]
     },
     "execution_count": 43,
     "metadata": {},
     "output_type": "execute_result"
    }
   ],
   "source": [
    "arr = [1,2,3,4,5]\n",
    "print(arr)\n",
    "type(arr)"
   ]
  },
  {
   "cell_type": "code",
   "execution_count": 44,
   "metadata": {},
   "outputs": [
    {
     "name": "stdout",
     "output_type": "stream",
     "text": [
      "[1 2 3 4 5]\n"
     ]
    },
    {
     "data": {
      "text/plain": [
       "numpy.ndarray"
      ]
     },
     "execution_count": 44,
     "metadata": {},
     "output_type": "execute_result"
    }
   ],
   "source": [
    "ndarry = np.array(arr)\n",
    "print(ndarry)\n",
    "type(ndarry)"
   ]
  },
  {
   "cell_type": "markdown",
   "metadata": {},
   "source": [
    "2. 다차원 배열"
   ]
  },
  {
   "cell_type": "code",
   "execution_count": 45,
   "metadata": {},
   "outputs": [
    {
     "name": "stdout",
     "output_type": "stream",
     "text": [
      "[[1 2 3]\n",
      " [3 4 5]]\n"
     ]
    }
   ],
   "source": [
    "arr_2d = np.array([[1,2,3],[3,4,5]])\n",
    "print(arr_2d)"
   ]
  },
  {
   "cell_type": "markdown",
   "metadata": {},
   "source": [
    "3. ndarray 배열의 속성\n",
    "- 배열의 중요한 속성들을 확인하는 것은 배열의 구조를 파악하는데 필수적이다. <br>\n",
    "  배열의 구조에 따라 데이터를 조작하는 방식이 달라지기 때문이다."
   ]
  },
  {
   "cell_type": "code",
   "execution_count": 46,
   "metadata": {},
   "outputs": [
    {
     "name": "stdout",
     "output_type": "stream",
     "text": [
      "(5,)\n",
      "(2, 3)\n",
      "int64\n",
      "int64\n",
      "1\n"
     ]
    }
   ],
   "source": [
    "print(ndarry.shape) # 배열의 차원을 확인 - 1차원 5개\n",
    "print(arr_2d.shape) #                   2차원 3개씩\n",
    "\n",
    "print(ndarry.dtype) # 데이터의 타입을 확인\n",
    "print(arr_2d.dtype) # 데이터의 타입을 확인\n",
    "\n",
    "print(ndarry.ndim) # 배열의 차원 수 확인"
   ]
  },
  {
   "cell_type": "markdown",
   "metadata": {},
   "source": [
    "4. 배열 초기화\n",
    "- numpy는 배열을 초기화하는 여러 방법을 제공한다."
   ]
  },
  {
   "cell_type": "code",
   "execution_count": 47,
   "metadata": {},
   "outputs": [
    {
     "name": "stdout",
     "output_type": "stream",
     "text": [
      "[[0. 0. 0.]\n",
      " [0. 0. 0.]\n",
      " [0. 0. 0.]]\n",
      "---------------\n",
      "[[1. 1.]\n",
      " [1. 1.]]\n",
      "---------------\n",
      "[[7 7 7]\n",
      " [7 7 7]\n",
      " [7 7 7]]\n",
      "---------------\n",
      "[[0.24943277 0.39428092]\n",
      " [0.04653739 0.88562019]]\n"
     ]
    }
   ],
   "source": [
    "arr_2d = np.zeros([3,3]) # 3 * 3의 배열을 생성한다.\n",
    "print(arr_2d)\n",
    "print(\"---------------\")\n",
    "\n",
    "arr_2d = np.ones([2,2]) # 2 * 2 의 배열 생성, 값을 1로 채움\n",
    "print(arr_2d)\n",
    "print(\"---------------\")\n",
    "\n",
    "arr_2d = np.full([3,3] ,7) # 3 * 3 의 배열 생성, 값을 7로 채움\n",
    "print(arr_2d)\n",
    "print(\"---------------\")\n",
    "\n",
    "arr_2d = np.random.random([2,2]) # 2 * 2 의 랜덤 배열, 생성 값을 랜덤하게 채움\n",
    "print(arr_2d)"
   ]
  },
  {
   "cell_type": "markdown",
   "metadata": {},
   "source": [
    "# 배열 연산 및 슬라이싱\n",
    "- numpy는 벡터화된 연산을 지원, 배열 간의 연산을 매우 효율적으로 처리한다."
   ]
  },
  {
   "cell_type": "code",
   "execution_count": 48,
   "metadata": {},
   "outputs": [
    {
     "name": "stdout",
     "output_type": "stream",
     "text": [
      "[5 7 9]\n"
     ]
    }
   ],
   "source": [
    "# list 간 덧셈\n",
    "# 벡터 연산을 통해 두 배열의 같은 인덱스 위치에 값을 더한다.\n",
    "\n",
    "arr1 = np.array([1, 2, 3])\n",
    "arr2 = np.array([4, 5, 6])\n",
    "result = arr1 + arr2\n",
    "print(result)"
   ]
  },
  {
   "cell_type": "code",
   "execution_count": 37,
   "metadata": {},
   "outputs": [
    {
     "name": "stdout",
     "output_type": "stream",
     "text": [
      "[1, 2, 3, 4, 5, 6]\n"
     ]
    }
   ],
   "source": [
    "# 파이썬 리스트 간의 덧셈\n",
    "# 두 배열을 합친다.\n",
    "\n",
    "arr1 = [1, 2, 3]\n",
    "arr2 = [4, 5, 6]\n",
    "\n",
    "result = arr1 + arr2\n",
    "print(result)"
   ]
  },
  {
   "cell_type": "code",
   "execution_count": 40,
   "metadata": {},
   "outputs": [
    {
     "name": "stdout",
     "output_type": "stream",
     "text": [
      "[ 4 10 18]\n"
     ]
    }
   ],
   "source": [
    "# 배열 간 행렬 곱\n",
    "result = arr1 * arr2 \n",
    "print(result)"
   ]
  },
  {
   "cell_type": "code",
   "execution_count": 51,
   "metadata": {},
   "outputs": [
    {
     "name": "stdout",
     "output_type": "stream",
     "text": [
      "[[19 22]\n",
      " [43 50]]\n"
     ]
    }
   ],
   "source": [
    "# 배열 간 행렬 곱\n",
    "arr1 = np.array([[1,2],[3,4]])\n",
    "arr2 = np.array([[5,6],[7,8]])\n",
    "\n",
    "# 연산 과정\n",
    "# 1*5 + 2*7 = 5, 14\n",
    "# 1*6 + 2*8 = 6, 16\n",
    "# 3*5 + 4*7 = 15, 28\n",
    "# 3*6 + 4*8 = 16, 32\n",
    "\n",
    "result = np.dot(arr1, arr2)\n",
    "print(result)"
   ]
  },
  {
   "cell_type": "markdown",
   "metadata": {},
   "source": [
    "# 배열의 슬라이싱 및 인덱싱\n"
   ]
  },
  {
   "cell_type": "code",
   "execution_count": 53,
   "metadata": {},
   "outputs": [
    {
     "name": "stdout",
     "output_type": "stream",
     "text": [
      "[2 3 4]\n"
     ]
    }
   ],
   "source": [
    "# 1차원 배열 슬라이싱\n",
    "arr = np.array([1,2,3,4,5])\n",
    "print(arr[1:4]) # 1번째 - 4미만 인덱스"
   ]
  },
  {
   "cell_type": "code",
   "execution_count": 57,
   "metadata": {},
   "outputs": [
    {
     "name": "stdout",
     "output_type": "stream",
     "text": [
      "[[1 2 3]\n",
      " [4 5 6]\n",
      " [7 8 9]]\n",
      "[[2 3]\n",
      " [5 6]]\n"
     ]
    }
   ],
   "source": [
    "# 2차원 배열 슬라이싱\n",
    "arr_2d = np.array([[1,2,3], [4,5,6], [7,8,9]])\n",
    "print(arr_2d)\n",
    "print(arr_2d[:2, 1:])\n",
    "\n",
    "# 결과\n",
    "# [[ :2 , 0 - 2까지 -> 행 지시\n",
    "# ]] 1: , 1번 - 마지막 -> 열 지시\n",
    "\n",
    "# 파이썬, R 사용 이유 : 연산 속도 차이, 데이터 전처리\n",
    "# 배열을 통해 인덱싱하여 간단하게 사용 가능"
   ]
  },
  {
   "cell_type": "markdown",
   "metadata": {},
   "source": [
    "# 배열의 형태 변경"
   ]
  },
  {
   "cell_type": "code",
   "execution_count": 61,
   "metadata": {},
   "outputs": [
    {
     "name": "stdout",
     "output_type": "stream",
     "text": [
      "[[1 2 3]\n",
      " [4 5 6]]\n"
     ]
    }
   ],
   "source": [
    "arr = np.array([1,2,3,4,5,6]) \n",
    "reshaped_arr = arr.reshape((2,3)) # 2*3 배열로 변경 ( 1차원 -> 2차원 배열 )\n",
    "print(reshaped_arr)"
   ]
  },
  {
   "cell_type": "code",
   "execution_count": 62,
   "metadata": {},
   "outputs": [
    {
     "name": "stdout",
     "output_type": "stream",
     "text": [
      "[4 5]\n"
     ]
    }
   ],
   "source": [
    "# 조건 별 값 선택\n",
    "arr = np.array([1,2,3,4,5])\n",
    "condition = arr>3\n",
    "list = [False,False,False, True, True]\n",
    "filtered_arr = arr[condition]\n",
    "print(filtered_arr)"
   ]
  },
  {
   "cell_type": "markdown",
   "metadata": {},
   "source": [
    "# 고차원 배열 연산 및 고급 기능"
   ]
  },
  {
   "cell_type": "code",
   "execution_count": 63,
   "metadata": {},
   "outputs": [
    {
     "name": "stdout",
     "output_type": "stream",
     "text": [
      "[[[0.47733792 0.93556893 0.29939553]\n",
      "  [0.89906799 0.00853692 0.35554607]\n",
      "  [0.6898391  0.70451427 0.1728162 ]]\n",
      "\n",
      " [[0.84504408 0.48049417 0.04696785]\n",
      "  [0.26456446 0.29100075 0.2016618 ]\n",
      "  [0.67562466 0.16945696 0.29791225]]\n",
      "\n",
      " [[0.51797398 0.98439937 0.71680647]\n",
      "  [0.59362254 0.5644302  0.35123038]\n",
      "  [0.36329907 0.09803086 0.65115952]]]\n"
     ]
    }
   ],
   "source": [
    "# 고차원 배열\n",
    "# numpy는 1차원 배열 뿐만 아니라 3차원, 4차원 이상의 고차원 배열도 쉽게 다룰 수 있다.\n",
    "# r,g,b,g => 색의 조합 & g\n",
    "arr_3d = np.random.random((3,3,3)) # 3*3*3 차원 배열 생성\n",
    "print(arr_3d)"
   ]
  },
  {
   "cell_type": "code",
   "execution_count": 68,
   "metadata": {},
   "outputs": [
    {
     "name": "stdout",
     "output_type": "stream",
     "text": [
      "[[5 6 7]\n",
      " [6 7 8]\n",
      " [7 8 9]]\n"
     ]
    }
   ],
   "source": [
    "# 브로드 캐스팅\n",
    "# 브로드 캐스팅은 서로 다른 크기의 배열 간의 연산을 가능하게 하는 강력한 기능\n",
    "arr1 = np.array([[1], [2], [3]])\n",
    "arr2 = np.array([4,5,6])\n",
    "\n",
    "result = arr1 + arr2\n",
    "print(result)\n",
    "\n",
    "# 연산 과정\n",
    "# 1+4, 1+5, 1+6\n",
    "# 2+4, 2+5, 2+6\n",
    "# 3+4, 3+4, 3+6"
   ]
  },
  {
   "cell_type": "code",
   "execution_count": 69,
   "metadata": {},
   "outputs": [
    {
     "name": "stdout",
     "output_type": "stream",
     "text": [
      "[10 30]\n"
     ]
    }
   ],
   "source": [
    "# 고급 인덱싱 및 슬라이싱\n",
    "# numpy는 불리언 배열과 정수 배열을 사용하여 복잡한 인덱싱을 지원\n",
    "arr = np.array([10,20,30,40])\n",
    "bool_arr = np.array([True, False, True, False])\n",
    "filtered = arr[bool_arr]\n",
    "print(filtered)"
   ]
  },
  {
   "cell_type": "markdown",
   "metadata": {},
   "source": [
    "# 배열 합치기 및 나누기\n",
    "- 배열을 수평 또는 수직으로 합치거나 나누는 방법"
   ]
  },
  {
   "cell_type": "code",
   "execution_count": 74,
   "metadata": {},
   "outputs": [
    {
     "name": "stdout",
     "output_type": "stream",
     "text": [
      "[[1 2]\n",
      " [3 4]\n",
      " [5 6]\n",
      " [7 8]]\n"
     ]
    }
   ],
   "source": [
    "# 배열 합치기\n",
    "arr1 = np.array([[1,2], [3,4]])\n",
    "arr2 = np.array([[5,6], [7,8]])\n",
    "\n",
    "# axis (0,1) 값을 가짐\n",
    "# 0 - 행 기준\n",
    "# 1 - 열 기준\n",
    "concatenated = np.concatenate((arr1,arr2), axis=0)\n",
    "print(concatenated)"
   ]
  },
  {
   "cell_type": "code",
   "execution_count": 77,
   "metadata": {},
   "outputs": [
    {
     "name": "stdout",
     "output_type": "stream",
     "text": [
      "[array([[1, 2, 3]]), array([[4, 5, 6]])]\n"
     ]
    }
   ],
   "source": [
    "# 배열 나누기 -> 전처리 시 사용\n",
    "arr = np.array([[1,2,3], [4,5,6]])\n",
    "\n",
    "# split : 자르는 메서드\n",
    "# axis (0,1)\n",
    "# 0 행을 기준으로 자른다.\n",
    "# 1 열을 기준으로 자른다.\n",
    "split_arr = np.split(arr, 2, axis=0)\n",
    "print(split_arr)"
   ]
  },
  {
   "cell_type": "markdown",
   "metadata": {},
   "source": [
    "# 고급 : Numpy 성능 최적화"
   ]
  },
  {
   "cell_type": "code",
   "execution_count": 78,
   "metadata": {},
   "outputs": [
    {
     "name": "stdout",
     "output_type": "stream",
     "text": [
      "1.12 ms ± 46.3 μs per loop (mean ± std. dev. of 7 runs, 1,000 loops each)\n",
      "111 ms ± 4.16 ms per loop (mean ± std. dev. of 7 runs, 10 loops each)\n"
     ]
    }
   ],
   "source": [
    "# 벡터화 연산과 for 루프의 비교\n",
    "arr = np.random.random(1000000) # 100만개의 난수 생성\n",
    "# C언어 기반, 혼용 가능, 계산이 빠름 ( 고급 언어 )\n",
    "\n",
    "# numpy sum, timeit ( 실행 시간 )\n",
    "%timeit np.sum(arr)\n",
    "# = arr.sum\n",
    "\n",
    "# for 루프의 연산\n",
    "def slow_sum(arr):\n",
    "  total = 0\n",
    "  for i in arr:\n",
    "    total += i\n",
    "  return total\n",
    "\n",
    "%timeit slow_sum(arr)"
   ]
  },
  {
   "cell_type": "code",
   "execution_count": 80,
   "metadata": {},
   "outputs": [
    {
     "name": "stdout",
     "output_type": "stream",
     "text": [
      "[1 2 3]\n",
      "[np.int64(1), np.int64(2), np.int64(3)]\n"
     ]
    }
   ],
   "source": [
    "# 메모리 관리 및 배열 복사\n",
    "# numpy는 메모리를 활용해 효율적인 배열 복사 지원, 명시적으로 복사하지 않으면 같은 메모리 주소 공유\n",
    "\n",
    "arr = np.array([1,2,3])\n",
    "arr_copy = arr.copy()\n",
    "print(arr_copy)\n",
    "\n",
    "# 깊은 복사\n",
    "list_copy = []\n",
    "for x in arr:\n",
    "  list_copy.append(x)\n",
    "\n",
    "print(list_copy)\n",
    "\n",
    "# 얕은 복사 ( 공유 객체 )\n",
    "list_copy = arr"
   ]
  },
  {
   "cell_type": "code",
   "execution_count": null,
   "metadata": {},
   "outputs": [],
   "source": [
    "# 고급 수학 함수\n",
    "# NumPy는 선형 대수, 푸리에 변환, 통계 함수 등 고급 수학 함수들을 제공한다.\n",
    "\n",
    "# 선형 대수\n",
    "# 역행렬\n",
    "# 정사각 행렬 𝐴A에 대해, 그 행렬과 곱했을 때 단위 행렬(identity matrix)을 만들어내는 행렬이다. 쉽게 말하면, 역행렬은 행렬을 \"원래 상태로 돌려놓는\" 역할을 하는 행렬이다.\n",
    "arr = np.array([[1, 2], [3, 4]])\n",
    "inverse = np.linalg.inv(arr)  # 역행렬 구하기\n",
    "print(\"역행렬 : \")\n",
    "print(inverse)\n",
    "print()\n",
    "\n",
    "# 표준편차\n",
    "mean = np.mean(arr)\n",
    "std_dev = np.std(arr)\n",
    "print(\"통계 함수 : \")\n",
    "print(std_dev)"
   ]
  }
 ],
 "metadata": {
  "kernelspec": {
   "display_name": "dataAnalysis",
   "language": "python",
   "name": "python3"
  },
  "language_info": {
   "codemirror_mode": {
    "name": "ipython",
    "version": 3
   },
   "file_extension": ".py",
   "mimetype": "text/x-python",
   "name": "python",
   "nbconvert_exporter": "python",
   "pygments_lexer": "ipython3",
   "version": "3.12.7"
  }
 },
 "nbformat": 4,
 "nbformat_minor": 2
}
